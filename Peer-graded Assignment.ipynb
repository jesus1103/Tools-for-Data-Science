{
  "metadata": {
    "kernelspec": {
      "name": "python",
      "display_name": "Pyolite",
      "language": "python"
    },
    "language_info": {
      "codemirror_mode": {
        "name": "python",
        "version": 3
      },
      "file_extension": ".py",
      "mimetype": "text/x-python",
      "name": "python",
      "nbconvert_exporter": "python",
      "pygments_lexer": "ipython3",
      "version": "3.8"
    }
  },
  "nbformat_minor": 4,
  "nbformat": 4,
  "cells": [
    {
      "cell_type": "markdown",
      "source": "# My Jupyter Notebook on IBM Watson Studio",
      "metadata": {
        "tags": []
      }
    },
    {
      "cell_type": "markdown",
      "source": "**Jesus Prato**\n",
      "metadata": {}
    },
    {
      "cell_type": "markdown",
      "source": "Assistant Manager at Amazon Fresh",
      "metadata": {}
    },
    {
      "cell_type": "markdown",
      "source": "_I am interested in data science because it is going to give me another view and knowledge about data management,  In addition I am looking for a new skill for my curriculum_",
      "metadata": {}
    },
    {
      "cell_type": "markdown",
      "source": "### Nex lines of code get the sum of three elements a b and c ##",
      "metadata": {}
    },
    {
      "cell_type": "code",
      "source": "def suma(a,b,c):\n\tresultado = a+b+c\n\treturn resultado\n \nprint(suma(5,6,7))",
      "metadata": {
        "trusted": true
      },
      "execution_count": 4,
      "outputs": [
        {
          "name": "stdout",
          "text": "18\n",
          "output_type": "stream"
        }
      ]
    },
    {
      "cell_type": "markdown",
      "source": "1. Suma is a funtion of 3 parameters on python\n2. resultado is the local variable for the operation\n3. Finally the print funtion returns the result\n\n- Jupyter Notebook is an easy environment for coding and developing tools\n- IBM Cloud is a complete set of tools for data sciences\n- This course is a great chance for me to get more expertise in the coding field.\n\n[Link of the course](https://www.coursera.org/professional-certificates/ibm-data-science)",
      "metadata": {}
    },
    {
      "cell_type": "code",
      "source": "",
      "metadata": {},
      "execution_count": null,
      "outputs": []
    }
  ]
}
